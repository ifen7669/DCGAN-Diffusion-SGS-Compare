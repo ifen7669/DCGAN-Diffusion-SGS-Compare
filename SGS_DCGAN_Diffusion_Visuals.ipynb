{
 "cells": [
  {
   "cell_type": "code",
   "execution_count": 1,
   "id": "64d975d2",
   "metadata": {
    "scrolled": false
   },
   "outputs": [
    {
     "name": "stderr",
     "output_type": "stream",
     "text": [
      "C:\\ProgramData\\Anaconda3\\lib\\site-packages\\pandas\\core\\computation\\expressions.py:21: UserWarning: Pandas requires version '2.8.4' or newer of 'numexpr' (version '2.7.3' currently installed).\n",
      "  from pandas.core.computation.check import NUMEXPR_INSTALLED\n",
      "C:\\ProgramData\\Anaconda3\\lib\\site-packages\\pandas\\core\\arrays\\masked.py:60: UserWarning: Pandas requires version '1.3.6' or newer of 'bottleneck' (version '1.3.2' currently installed).\n",
      "  from pandas.core import (\n",
      "C:\\ProgramData\\Anaconda3\\lib\\site-packages\\scipy\\__init__.py:146: UserWarning: A NumPy version >=1.16.5 and <1.23.0 is required for this version of SciPy (detected version 1.26.4\n",
      "  warnings.warn(f\"A NumPy version >={np_minversion} and <{np_maxversion}\"\n"
     ]
    }
   ],
   "source": [
    "import processing\n",
    "from PIL import Image\n",
    "import os\n",
    "import pandas as pd\n",
    "import numpy as np\n",
    "import skgstat as skg\n",
    "import matplotlib.pyplot as plt\n",
    "from mpl_toolkits.axes_grid1 import make_axes_locatable\n",
    "import random\n",
    "import itertools"
   ]
  },
  {
   "cell_type": "code",
   "execution_count": 2,
   "id": "deb7ccaa",
   "metadata": {},
   "outputs": [
    {
     "data": {
      "text/plain": [
       "'\\nTODO:\\n1. ***Get coordinates for the 256 x 256 simulations\\n2. Standardize file formats?\\n\\n'"
      ]
     },
     "execution_count": 2,
     "metadata": {},
     "output_type": "execute_result"
    }
   ],
   "source": [
    "'''\n",
    "TODO:\n",
    "1. ***Get coordinates for the 256 x 256 simulations\n",
    "2. Standardize file formats?\n",
    "\n",
    "'''"
   ]
  },
  {
   "cell_type": "code",
   "execution_count": 3,
   "id": "fe5a2e39",
   "metadata": {},
   "outputs": [],
   "source": [
    "sgsdir = \"SGS_training_sample/parquet\"\n",
    "dcgandir = \"DCGAN\"\n",
    "diffusiondir = \"256_sim_cp_10.csv\"\n",
    "\n",
    "sgs = np.empty((len(os.listdir(sgsdir)), 256, 256))\n"
   ]
  },
  {
   "cell_type": "code",
   "execution_count": 4,
   "id": "b4d2ad65",
   "metadata": {},
   "outputs": [],
   "source": [
    "#SGS - 50 realizations\n",
    "\n",
    "for i, name in enumerate(os.listdir(sgsdir)):\n",
    "    sgs[i] = pd.read_parquet(sgsdir+\"/\"+name).values.reshape(300,300)[:256, :256]"
   ]
  },
  {
   "cell_type": "code",
   "execution_count": 5,
   "id": "a3d98b09",
   "metadata": {},
   "outputs": [],
   "source": [
    "sgs = (sgs + 1)/2"
   ]
  },
  {
   "cell_type": "code",
   "execution_count": 6,
   "id": "0c40736e",
   "metadata": {},
   "outputs": [],
   "source": [
    "def plot_colormap(X, Y, Color, colorbar_title, title):\n",
    "\n",
    "    fig = plt.figure(figsize = (6,5))\n",
    "    ax = plt.gca()\n",
    "    im = ax.scatter(X, Y, c=Color, marker='.', s=5, cmap='gist_earth')\n",
    "    plt.title(title)\n",
    "    plt.xlabel('X [m]'); plt.ylabel('Y [m]')\n",
    "    plt.locator_params(nbins=5)\n",
    "    plt.axis('scaled')\n",
    "\n",
    "    # make colorbar\n",
    "    divider = make_axes_locatable(ax)\n",
    "    cax = divider.append_axes('right', size='5%', pad=0.1)\n",
    "    cbar = plt.colorbar(im, ticks=np.linspace(np.min(Color), np.max(Color), 11), cax=cax)\n",
    "    cbar.set_label(colorbar_title, rotation=270, labelpad=15)"
   ]
  },
  {
   "cell_type": "code",
   "execution_count": 14,
   "id": "b4a76cc2",
   "metadata": {},
   "outputs": [],
   "source": [
    "coord = np.array(list(itertools.product(np.arange(0,256), np.arange(0,256))))"
   ]
  },
  {
   "cell_type": "code",
   "execution_count": 15,
   "id": "04998050",
   "metadata": {},
   "outputs": [
    {
     "ename": "TypeError",
     "evalue": "plot_colormap() takes 5 positional arguments but 6 were given",
     "output_type": "error",
     "traceback": [
      "\u001b[1;31m---------------------------------------------------------------------------\u001b[0m",
      "\u001b[1;31mTypeError\u001b[0m                                 Traceback (most recent call last)",
      "\u001b[1;32mC:\\Users\\ALLANZ~1\\AppData\\Local\\Temp/ipykernel_11352/2853522216.py\u001b[0m in \u001b[0;36m<module>\u001b[1;34m\u001b[0m\n\u001b[1;32m----> 1\u001b[1;33m \u001b[0mplot_colormap\u001b[0m\u001b[1;33m(\u001b[0m\u001b[0mcoord\u001b[0m\u001b[1;33m[\u001b[0m\u001b[1;33m:\u001b[0m\u001b[1;33m,\u001b[0m\u001b[1;36m0\u001b[0m\u001b[1;33m]\u001b[0m\u001b[1;33m,\u001b[0m \u001b[0mcoord\u001b[0m\u001b[1;33m[\u001b[0m\u001b[1;33m:\u001b[0m\u001b[1;33m,\u001b[0m\u001b[1;36m1\u001b[0m\u001b[1;33m]\u001b[0m\u001b[1;33m,\u001b[0m \u001b[0mnp\u001b[0m\u001b[1;33m.\u001b[0m\u001b[0marange\u001b[0m\u001b[1;33m(\u001b[0m\u001b[1;36m0\u001b[0m\u001b[1;33m,\u001b[0m\u001b[1;36m65536\u001b[0m\u001b[1;33m)\u001b[0m\u001b[1;33m,\u001b[0m \u001b[0mnp\u001b[0m\u001b[1;33m.\u001b[0m\u001b[0mmean\u001b[0m\u001b[1;33m(\u001b[0m\u001b[0msgs\u001b[0m\u001b[1;33m,\u001b[0m \u001b[0maxis\u001b[0m \u001b[1;33m=\u001b[0m \u001b[1;36m0\u001b[0m\u001b[1;33m)\u001b[0m\u001b[1;33m,\u001b[0m \u001b[1;34m\"Normalized Elevation\"\u001b[0m\u001b[1;33m,\u001b[0m \u001b[1;34m\"SGS Mean\"\u001b[0m\u001b[1;33m)\u001b[0m\u001b[1;33m\u001b[0m\u001b[1;33m\u001b[0m\u001b[0m\n\u001b[0m",
      "\u001b[1;31mTypeError\u001b[0m: plot_colormap() takes 5 positional arguments but 6 were given"
     ]
    }
   ],
   "source": [
    "plot_colormap(coord[:,0], coord[:,1], np.arange(0,65536), np.mean(sgs, axis = 0), \"Normalized Elevation\", \"SGS Mean\")"
   ]
  }
 ],
 "metadata": {
  "kernelspec": {
   "display_name": "Python 3 (ipykernel)",
   "language": "python",
   "name": "python3"
  },
  "language_info": {
   "codemirror_mode": {
    "name": "ipython",
    "version": 3
   },
   "file_extension": ".py",
   "mimetype": "text/x-python",
   "name": "python",
   "nbconvert_exporter": "python",
   "pygments_lexer": "ipython3",
   "version": "3.9.7"
  }
 },
 "nbformat": 4,
 "nbformat_minor": 5
}
