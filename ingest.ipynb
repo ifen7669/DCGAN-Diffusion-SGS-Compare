{
 "cells": [
  {
   "cell_type": "code",
   "execution_count": 1,
   "id": "b6e0b936-dbb3-41b1-9db5-3e92be442bff",
   "metadata": {},
   "outputs": [],
   "source": [
    "from PIL import Image\n",
    "import os\n",
    "import pandas as pd\n",
    "import numpy as np"
   ]
  },
  {
   "cell_type": "markdown",
   "id": "f8f9c8c0-7f11-4248-9b97-a9db1407a1dc",
   "metadata": {},
   "source": [
    "# Ingest raw data contained in raw_data.zip"
   ]
  },
  {
   "cell_type": "code",
   "execution_count": 3,
   "id": "87035c5a-74bb-4d6d-b738-836023ba7fcd",
   "metadata": {},
   "outputs": [],
   "source": [
    "sgsdir = 'SGS'\n",
    "dcgandir = '256_dcgan_cp_150/256_dcgan_cp_150'\n",
    "diffusiondir = '256_sim_cp_10_100.csv'\n",
    "\n",
    "\n",
    "coord = pd.read_csv('coords_256.csv').values"
   ]
  },
  {
   "cell_type": "code",
   "execution_count": 4,
   "id": "65ed945a-ef11-4524-8f7a-8ba42b3ac777",
   "metadata": {},
   "outputs": [],
   "source": [
    "#SGS - 50 realizations\n",
    "# sgs = np.empty((len(os.listdir(sgsdir)), 256, 256))\n",
    "\n",
    "# for i, name in enumerate(os.listdir(sgsdir)):\n",
    "#     sgs[i] = pd.read_parquet(sgsdir+\"/\"+name).values.reshape(300,300)[:256, :256]"
   ]
  },
  {
   "cell_type": "code",
   "execution_count": 5,
   "id": "42e92dc2-c631-4a2d-ada6-76dcd7e30780",
   "metadata": {},
   "outputs": [
    {
     "data": {
      "text/plain": [
       "(100, 256, 256)"
      ]
     },
     "execution_count": 5,
     "metadata": {},
     "output_type": "execute_result"
    }
   ],
   "source": [
    "def ImgData(filename):\n",
    "\n",
    "    imgs = np.empty((len(os.listdir(filename)), 256**2))\n",
    "\n",
    "    for i, name in enumerate(os.listdir(filename)):\n",
    "        path = os.path.join(filename, name)\n",
    "        image = Image.open(path).convert('L')\n",
    "        image = np.array(image, dtype=np.float32) / 255.0\n",
    "\n",
    "        imgs[i] = image.reshape(256**2)\n",
    "\n",
    "    return imgs\n",
    "\n",
    "sgs = ImgData('SGS')\n",
    "sgs = sgs.reshape((sgs.shape[0], 256, 256))\n",
    "sgs.shape"
   ]
  },
  {
   "cell_type": "code",
   "execution_count": 6,
   "id": "ea0f3b0f-693a-4424-9054-beb80cc8b5f7",
   "metadata": {},
   "outputs": [],
   "source": [
    "sgs = (sgs + 1)/2"
   ]
  },
  {
   "cell_type": "code",
   "execution_count": 7,
   "id": "61ddeaaa-00e7-41f0-835f-3d03b6c88fd4",
   "metadata": {},
   "outputs": [
    {
     "data": {
      "text/plain": [
       "((65536, 2), (100, 256, 256))"
      ]
     },
     "execution_count": 7,
     "metadata": {},
     "output_type": "execute_result"
    }
   ],
   "source": [
    "coord.shape, sgs.shape"
   ]
  },
  {
   "cell_type": "code",
   "execution_count": 8,
   "id": "8c96dbc0-80d0-4e78-bb42-5341ef8819f8",
   "metadata": {},
   "outputs": [
    {
     "data": {
      "text/plain": [
       "((256, 256), (256, 256))"
      ]
     },
     "execution_count": 8,
     "metadata": {},
     "output_type": "execute_result"
    }
   ],
   "source": [
    "x_uniq = np.unique(coord[:, 0])\n",
    "y_uniq = np.unique(coord[:, 1])\n",
    "\n",
    "xx, yy = np.meshgrid(x_uniq, y_uniq)\n",
    "\n",
    "xx.shape, yy.shape"
   ]
  },
  {
   "cell_type": "code",
   "execution_count": 9,
   "id": "2f1b8d8a-90ea-41ca-8bbb-d45a2850a5b5",
   "metadata": {},
   "outputs": [
    {
     "data": {
      "text/plain": [
       "(500.0, 500.0)"
      ]
     },
     "execution_count": 9,
     "metadata": {},
     "output_type": "execute_result"
    }
   ],
   "source": [
    "x_uniq[1]-x_uniq[0], y_uniq[1]-y_uniq[0]"
   ]
  },
  {
   "cell_type": "markdown",
   "id": "7b1b94f5-5ef5-4b72-8bb7-148dd794ae42",
   "metadata": {},
   "source": [
    "## DCGAN"
   ]
  },
  {
   "cell_type": "code",
   "execution_count": 10,
   "id": "ee2703e6-6552-43e6-802a-a22876069dc7",
   "metadata": {
    "scrolled": true
   },
   "outputs": [
    {
     "data": {
      "text/plain": [
       "(100, 256, 256)"
      ]
     },
     "execution_count": 10,
     "metadata": {},
     "output_type": "execute_result"
    }
   ],
   "source": [
    "# DCGAN - 100 samples\n",
    "dcgan = np.empty((len(os.listdir(dcgandir)), 256, 256))\n",
    "\n",
    "for i, name in enumerate(os.listdir(dcgandir)):\n",
    "        path = os.path.join(dcgandir, name)\n",
    "        image = Image.open(path).convert('L')\n",
    "        image_normalized = np.array(image, dtype=np.float32) / 255.0\n",
    "        \n",
    "        \n",
    "        dcgan[i] = image_normalized\n",
    "\n",
    "dcgan.shape"
   ]
  },
  {
   "cell_type": "markdown",
   "id": "448958c4-f1e5-4a6b-b27c-67d098f5d852",
   "metadata": {},
   "source": [
    "## Diffusion"
   ]
  },
  {
   "cell_type": "code",
   "execution_count": 11,
   "id": "e70b644c-8168-4af4-a61d-41792ac598cb",
   "metadata": {},
   "outputs": [
    {
     "data": {
      "text/plain": [
       "(100, 256, 256)"
      ]
     },
     "execution_count": 11,
     "metadata": {},
     "output_type": "execute_result"
    }
   ],
   "source": [
    "# Diffusion - 50 samples (randomly sampled from 100 original -- too big to push to repo!)\n",
    "\n",
    "diffusion = pd.read_csv(diffusiondir, header = None)\n",
    "diffusion = diffusion.to_numpy().reshape((100, 256, 256))\n",
    "diffusion.shape"
   ]
  },
  {
   "cell_type": "code",
   "execution_count": 12,
   "id": "2f3ec5cd-9035-4793-9252-308883395cb0",
   "metadata": {},
   "outputs": [],
   "source": [
    "dmin = -665.37\n",
    "dmax = 636.33\n",
    "\n",
    "def rescale_range(x, a, b):\n",
    "    return a+((x-np.nanmin(x))*(b-a))/(np.nanmax(x)-np.nanmin(x))\n",
    "\n",
    "sgs = rescale_range(sgs, dmin, dmax)\n",
    "diffusion = rescale_range(diffusion, dmin, dmax)\n",
    "dcgan = rescale_range(dcgan, dmin, dmax)"
   ]
  },
  {
   "cell_type": "code",
   "execution_count": 14,
   "id": "096f5c7f-a865-46e7-84a9-93a76102716d",
   "metadata": {},
   "outputs": [],
   "source": [
    "np.savez_compressed('data.npz', sgs=sgs, diffusion=diffusion, dcgan=dcgan, xx=xx, yy=yy)"
   ]
  }
 ],
 "metadata": {
  "kernelspec": {
   "display_name": "Python 3 (ipykernel)",
   "language": "python",
   "name": "python3"
  },
  "language_info": {
   "codemirror_mode": {
    "name": "ipython",
    "version": 3
   },
   "file_extension": ".py",
   "mimetype": "text/x-python",
   "name": "python",
   "nbconvert_exporter": "python",
   "pygments_lexer": "ipython3",
   "version": "3.10.10"
  }
 },
 "nbformat": 4,
 "nbformat_minor": 5
}
